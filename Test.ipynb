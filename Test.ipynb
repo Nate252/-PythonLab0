{
 "cells": [
  {
   "cell_type": "code",
   "execution_count": 1,
   "id": "db6c4460-7a88-4170-927d-c8c64f3fb4e1",
   "metadata": {},
   "outputs": [
    {
     "data": {
      "text/plain": [
       "0"
      ]
     },
     "execution_count": 1,
     "metadata": {},
     "output_type": "execute_result"
    }
   ],
   "source": [
    "0 and 1"
   ]
  },
  {
   "cell_type": "code",
   "execution_count": 2,
   "id": "ac7e3b1d-9354-440a-85d9-ec8ad562dd47",
   "metadata": {},
   "outputs": [
    {
     "data": {
      "text/plain": [
       "1"
      ]
     },
     "execution_count": 2,
     "metadata": {},
     "output_type": "execute_result"
    }
   ],
   "source": [
    "0 or 1"
   ]
  },
  {
   "cell_type": "code",
   "execution_count": 3,
   "id": "9836f168-31e3-4974-99e5-bfb60118da52",
   "metadata": {},
   "outputs": [
    {
     "data": {
      "text/plain": [
       "True"
      ]
     },
     "execution_count": 3,
     "metadata": {},
     "output_type": "execute_result"
    }
   ],
   "source": [
    "True"
   ]
  },
  {
   "cell_type": "code",
   "execution_count": 4,
   "id": "6417b0b9-c713-440e-9c3f-290f42f46f45",
   "metadata": {},
   "outputs": [
    {
     "data": {
      "text/plain": [
       "True"
      ]
     },
     "execution_count": 4,
     "metadata": {},
     "output_type": "execute_result"
    }
   ],
   "source": [
    "True or Fasle"
   ]
  },
  {
   "cell_type": "code",
   "execution_count": 5,
   "id": "39d76420-311f-495b-9a7b-42dd7c01a513",
   "metadata": {},
   "outputs": [
    {
     "data": {
      "text/plain": [
       "True"
      ]
     },
     "execution_count": 5,
     "metadata": {},
     "output_type": "execute_result"
    }
   ],
   "source": [
    "False or True"
   ]
  },
  {
   "cell_type": "code",
   "execution_count": 6,
   "id": "d2beebd5-6670-44ab-9286-851aa71f3746",
   "metadata": {},
   "outputs": [
    {
     "data": {
      "text/plain": [
       "True"
      ]
     },
     "execution_count": 6,
     "metadata": {},
     "output_type": "execute_result"
    }
   ],
   "source": [
    "bool(\"hi\")"
   ]
  },
  {
   "cell_type": "code",
   "execution_count": 7,
   "id": "06926724-3157-4c99-8198-b8ae1d710724",
   "metadata": {},
   "outputs": [
    {
     "data": {
      "text/plain": [
       "False"
      ]
     },
     "execution_count": 7,
     "metadata": {},
     "output_type": "execute_result"
    }
   ],
   "source": [
    "bool(0)"
   ]
  },
  {
   "cell_type": "code",
   "execution_count": 8,
   "id": "727dc06b-6a63-49f0-abb3-e657b7b52d56",
   "metadata": {},
   "outputs": [
    {
     "data": {
      "text/plain": [
       "True"
      ]
     },
     "execution_count": 8,
     "metadata": {},
     "output_type": "execute_result"
    }
   ],
   "source": [
    "bool(1)"
   ]
  },
  {
   "cell_type": "code",
   "execution_count": 9,
   "id": "648549fc-84d1-4522-9e4b-089182560ed3",
   "metadata": {},
   "outputs": [
    {
     "data": {
      "text/plain": [
       "0"
      ]
     },
     "execution_count": 9,
     "metadata": {},
     "output_type": "execute_result"
    }
   ],
   "source": [
    "False or 0"
   ]
  },
  {
   "cell_type": "raw",
   "id": "351805ec-c66d-4a78-a84b-f14ee4101e16",
   "metadata": {},
   "source": [
    "операция or при False or 0 зрозіміє що False не коректний варіант але вона поверне 0 який також є некоретним варінатом"
   ]
  },
  {
   "cell_type": "code",
   "execution_count": 12,
   "id": "0e2e4ecb-8810-4993-85a1-4d21def4ad5e",
   "metadata": {},
   "outputs": [
    {
     "name": "stdout",
     "output_type": "stream",
     "text": [
      "jj\n"
     ]
    }
   ],
   "source": [
    "name = \"jj\"\n",
    "if name:\n",
    "    print(name)\n",
    "elif name != name:\n",
    "    print(\"no\")"
   ]
  },
  {
   "cell_type": "code",
   "execution_count": 13,
   "id": "e4dc53fe-d547-4489-9903-fa996670da74",
   "metadata": {},
   "outputs": [
    {
     "data": {
      "text/plain": [
       "20"
      ]
     },
     "execution_count": 13,
     "metadata": {},
     "output_type": "execute_result"
    }
   ],
   "source": [
    "def addnew(a,b):\n",
    "    return a + b\n",
    "addnew(10,10)"
   ]
  },
  {
   "cell_type": "code",
   "execution_count": 16,
   "id": "6fdf1ee1-de89-460a-a7b9-673fe6f69dec",
   "metadata": {},
   "outputs": [
    {
     "name": "stdout",
     "output_type": "stream",
     "text": [
      "no\n"
     ]
    }
   ],
   "source": [
    "def corecct(a,b=None):\n",
    "    if b==None:\n",
    "        print(\"no\")\n",
    "    else:\n",
    "        print(\"hel\")\n",
    "corecct(10)"
   ]
  },
  {
   "cell_type": "code",
   "execution_count": 17,
   "id": "fac73905-0929-43eb-985f-e562baf514e7",
   "metadata": {},
   "outputs": [
    {
     "data": {
      "text/plain": [
       "int"
      ]
     },
     "execution_count": 17,
     "metadata": {},
     "output_type": "execute_result"
    }
   ],
   "source": [
    "type(5)"
   ]
  },
  {
   "cell_type": "code",
   "execution_count": 18,
   "id": "24898092-a27f-4635-83fa-3ef7d14474aa",
   "metadata": {},
   "outputs": [
    {
     "data": {
      "text/plain": [
       "(1, 'hhg', 67)"
      ]
     },
     "execution_count": 18,
     "metadata": {},
     "output_type": "execute_result"
    }
   ],
   "source": [
    "x = (1,\"hhg\",67)\n",
    "x"
   ]
  },
  {
   "cell_type": "raw",
   "id": "86d389aa-7689-4274-a854-ef9dfda56519",
   "metadata": {},
   "source": [
    "Кортеж не змінний список змінний "
   ]
  },
  {
   "cell_type": "code",
   "execution_count": 23,
   "id": "77b05e18-4b99-4aa4-9481-2f478d1044ae",
   "metadata": {},
   "outputs": [
    {
     "data": {
      "text/plain": [
       "[1, 2, 5, 12]"
      ]
     },
     "execution_count": 23,
     "metadata": {},
     "output_type": "execute_result"
    }
   ],
   "source": [
    "x = [1,2,3]\n",
    "x[2] = 5\n",
    "x.append(12)\n",
    "x"
   ]
  },
  {
   "cell_type": "code",
   "execution_count": 27,
   "id": "06d2a147-4360-4edd-a10a-3998627461d2",
   "metadata": {},
   "outputs": [
    {
     "name": "stdout",
     "output_type": "stream",
     "text": [
      "[10, 2, 5, 12]\n",
      "[1, 2, 5, 12]\n"
     ]
    }
   ],
   "source": [
    "b = x.copy()\n",
    "b[0] =10\n",
    "print(b)\n",
    "print(x)"
   ]
  },
  {
   "cell_type": "code",
   "execution_count": null,
   "id": "80ed4f86-e6d6-47e7-9b83-681963a48983",
   "metadata": {},
   "outputs": [],
   "source": [
    "\n",
    "b = [1,2,3[1,2,2]]\n",
    "a = b"
   ]
  },
  {
   "cell_type": "raw",
   "id": "3f31e978-6c48-434e-8813-991e75709729",
   "metadata": {},
   "source": [
    "Глубока копія з бібліотекою "
   ]
  },
  {
   "cell_type": "code",
   "execution_count": 28,
   "id": "26fdd5ca-007e-430c-a888-05880014d976",
   "metadata": {},
   "outputs": [
    {
     "name": "stdout",
     "output_type": "stream",
     "text": [
      "heloo\n",
      "jj\n"
     ]
    }
   ],
   "source": [
    "word = \"f\"\n",
    "for i in word:\n",
    "    print(\"heloo\")\n",
    "else:\n",
    "    print(\"jj\")"
   ]
  },
  {
   "cell_type": "code",
   "execution_count": 30,
   "id": "b368d499-2107-453b-893b-87449bb587d7",
   "metadata": {},
   "outputs": [
    {
     "name": "stdout",
     "output_type": "stream",
     "text": [
      "H\n",
      "J\n",
      "H\n",
      "J\n",
      "H\n",
      "J\n",
      "K\n"
     ]
    },
    {
     "data": {
      "text/plain": [
       "range(0, 7)"
      ]
     },
     "execution_count": 30,
     "metadata": {},
     "output_type": "execute_result"
    }
   ],
   "source": [
    "word = \"HJHJHJK\"\n",
    "for i in range(len(word)):\n",
    "    print(word[i])\n",
    "range(len(word))"
   ]
  },
  {
   "cell_type": "code",
   "execution_count": 31,
   "id": "a122186c-968f-4c36-9c5b-afd7942e41bb",
   "metadata": {},
   "outputs": [
    {
     "data": {
      "text/plain": [
       "[1, 2, 3, 2, 3, 4]"
      ]
     },
     "execution_count": 31,
     "metadata": {},
     "output_type": "execute_result"
    }
   ],
   "source": [
    "[1,2,3] + [2,3,4]"
   ]
  },
  {
   "cell_type": "code",
   "execution_count": 32,
   "id": "dae672d1-c1fc-4120-ba3e-058fdec1f6c2",
   "metadata": {},
   "outputs": [
    {
     "data": {
      "text/plain": [
       "[1, 2, 3, 1, 2, 3, 1, 2, 3, 1, 2, 3, 1, 2, 3]"
      ]
     },
     "execution_count": 32,
     "metadata": {},
     "output_type": "execute_result"
    }
   ],
   "source": [
    "[1,2,3]*5"
   ]
  },
  {
   "cell_type": "code",
   "execution_count": 33,
   "id": "2e8bb5e9-6df2-40e6-9f29-66d5d0084c66",
   "metadata": {},
   "outputs": [
    {
     "data": {
      "text/plain": [
       "(1, 2, 3, 1, 2, 3, 1, 2, 3, 1, 2, 3, 1, 2, 3)"
      ]
     },
     "execution_count": 33,
     "metadata": {},
     "output_type": "execute_result"
    }
   ],
   "source": [
    "(1,2,3)*5"
   ]
  },
  {
   "cell_type": "code",
   "execution_count": 34,
   "id": "029f4a7a-f22e-4671-b1bd-3d458a8df6c7",
   "metadata": {},
   "outputs": [
    {
     "data": {
      "text/plain": [
       "True"
      ]
     },
     "execution_count": 34,
     "metadata": {},
     "output_type": "execute_result"
    }
   ],
   "source": [
    "1 in [1,2,3]"
   ]
  },
  {
   "cell_type": "code",
   "execution_count": 36,
   "id": "16e3b361-f46a-4977-b364-291b83a31382",
   "metadata": {},
   "outputs": [
    {
     "data": {
      "text/plain": [
       "True"
      ]
     },
     "execution_count": 36,
     "metadata": {},
     "output_type": "execute_result"
    }
   ],
   "source": [
    "[1,2] in [1,2,3,[1,2]]"
   ]
  },
  {
   "cell_type": "code",
   "execution_count": 37,
   "id": "9930658a-f666-49a3-816a-815919acf90b",
   "metadata": {},
   "outputs": [
    {
     "data": {
      "text/plain": [
       "[1, 2, 5, 12]"
      ]
     },
     "execution_count": 37,
     "metadata": {},
     "output_type": "execute_result"
    }
   ],
   "source": [
    "x"
   ]
  },
  {
   "cell_type": "code",
   "execution_count": 38,
   "id": "b9cedddf-64d0-48d9-841d-161c8004be56",
   "metadata": {},
   "outputs": [
    {
     "data": {
      "text/plain": [
       "[5, 12]"
      ]
     },
     "execution_count": 38,
     "metadata": {},
     "output_type": "execute_result"
    }
   ],
   "source": [
    "x[2:4]"
   ]
  },
  {
   "cell_type": "code",
   "execution_count": 39,
   "id": "17ebdc94-1a24-48c2-adf7-3f35724e9f82",
   "metadata": {},
   "outputs": [],
   "source": [
    "x.append(14)"
   ]
  },
  {
   "cell_type": "code",
   "execution_count": 41,
   "id": "8befd306-25f6-4ea8-a34f-58a49a498a4a",
   "metadata": {},
   "outputs": [
    {
     "data": {
      "text/plain": [
       "[5, 12]"
      ]
     },
     "execution_count": 41,
     "metadata": {},
     "output_type": "execute_result"
    }
   ],
   "source": [
    "x[2:4]"
   ]
  },
  {
   "cell_type": "code",
   "execution_count": 43,
   "id": "09220a04-2b4f-4ac9-b7e6-033535b68287",
   "metadata": {},
   "outputs": [
    {
     "data": {
      "text/plain": [
       "[1, 2, 5]"
      ]
     },
     "execution_count": 43,
     "metadata": {},
     "output_type": "execute_result"
    }
   ],
   "source": [
    "x[:3]"
   ]
  },
  {
   "cell_type": "code",
   "execution_count": 44,
   "id": "9825bac0-2efc-41d8-ad97-5ba068de34d7",
   "metadata": {},
   "outputs": [
    {
     "data": {
      "text/plain": [
       "[1, 5]"
      ]
     },
     "execution_count": 44,
     "metadata": {},
     "output_type": "execute_result"
    }
   ],
   "source": [
    "x[:4:2]"
   ]
  },
  {
   "cell_type": "code",
   "execution_count": 45,
   "id": "b9263fb9-8c9c-421f-8748-bf1953b04c5c",
   "metadata": {},
   "outputs": [
    {
     "data": {
      "text/plain": [
       "[1, 5, 14]"
      ]
     },
     "execution_count": 45,
     "metadata": {},
     "output_type": "execute_result"
    }
   ],
   "source": [
    "x[::2]"
   ]
  },
  {
   "cell_type": "code",
   "execution_count": 51,
   "id": "a2b666f2-a5e9-4afa-b8f6-49970a8def41",
   "metadata": {},
   "outputs": [
    {
     "name": "stdout",
     "output_type": "stream",
     "text": [
      "[14, 12]\n"
     ]
    },
    {
     "data": {
      "text/plain": [
       "1972368780352"
      ]
     },
     "execution_count": 51,
     "metadata": {},
     "output_type": "execute_result"
    }
   ],
   "source": [
    "print(x[::-1])\n",
    "id(x)"
   ]
  },
  {
   "cell_type": "code",
   "execution_count": null,
   "id": "bda54cea-2e45-4910-b87e-c531b06c6343",
   "metadata": {},
   "outputs": [],
   "source": []
  },
  {
   "cell_type": "code",
   "execution_count": null,
   "id": "886fb3e6-495f-47cb-a8e3-5764d75d9fcc",
   "metadata": {},
   "outputs": [],
   "source": []
  },
  {
   "cell_type": "code",
   "execution_count": 50,
   "id": "147b139a-33c6-4f45-8015-f4c9645f1b1c",
   "metadata": {},
   "outputs": [
    {
     "name": "stdout",
     "output_type": "stream",
     "text": [
      "[12, 14]\n"
     ]
    },
    {
     "data": {
      "text/plain": [
       "1972368780352"
      ]
     },
     "execution_count": 50,
     "metadata": {},
     "output_type": "execute_result"
    }
   ],
   "source": [
    "del x[0]\n",
    "print(x)\n",
    "id(x)"
   ]
  },
  {
   "cell_type": "code",
   "execution_count": 53,
   "id": "a6b1e3b8-4f28-4849-8a78-4943f8b15ebd",
   "metadata": {},
   "outputs": [
    {
     "name": "stdout",
     "output_type": "stream",
     "text": [
      "True\n"
     ]
    }
   ],
   "source": [
    "print(\"J\" in \"Jame\")"
   ]
  },
  {
   "cell_type": "code",
   "execution_count": 55,
   "id": "eadef174-761b-4dd8-b265-3b3d3bb477a2",
   "metadata": {},
   "outputs": [
    {
     "name": "stdout",
     "output_type": "stream",
     "text": [
      "1972260642608\n",
      "1972347191600\n"
     ]
    }
   ],
   "source": [
    "f1 = \"j\"\n",
    "print(id(f1))\n",
    "f2 = \"h\"\n",
    "f1 = f2 + f1\n",
    "print(id(f1))"
   ]
  },
  {
   "cell_type": "code",
   "execution_count": 57,
   "id": "c46f7dcd-87f5-4aac-9875-ee6f02ac9d37",
   "metadata": {},
   "outputs": [
    {
     "data": {
      "text/plain": [
       "'hh'"
      ]
     },
     "execution_count": 57,
     "metadata": {},
     "output_type": "execute_result"
    }
   ],
   "source": [
    "name = \"hh hh1 hh3 hh4\".split(\" \")[0]\n",
    "name"
   ]
  },
  {
   "cell_type": "code",
   "execution_count": 58,
   "id": "01efb569-09f1-4ac1-8b46-1151d0e2ba75",
   "metadata": {},
   "outputs": [
    {
     "data": {
      "text/plain": [
       "'Jam13'"
      ]
     },
     "execution_count": 58,
     "metadata": {},
     "output_type": "execute_result"
    }
   ],
   "source": [
    "\"Jam\" + str(13)"
   ]
  },
  {
   "cell_type": "code",
   "execution_count": 63,
   "id": "8a7836ba-a1f5-41af-84b3-b0801138b076",
   "metadata": {},
   "outputs": [
    {
     "name": "stdout",
     "output_type": "stream",
     "text": [
      "Notton\n",
      "{'jam': 'Notton', 'deto': 'TErenon'}\n",
      "{'jam': 'New', 'deto': 'TErenon'}\n"
     ]
    }
   ],
   "source": [
    "x = {\"jam\" : \"Notton\",\n",
    "     \"deto\" : \"TErenon\"}\n",
    "print(x[\"jam\"])\n",
    "print(x)\n",
    "x[\"jam\"] = \"New\"\n",
    "print(x)"
   ]
  },
  {
   "cell_type": "code",
   "execution_count": 64,
   "id": "f4f8098f-7631-443d-80be-42e789ff6d70",
   "metadata": {},
   "outputs": [
    {
     "name": "stdout",
     "output_type": "stream",
     "text": [
      "{'jam': 'New', 'deto': 'TErenon'}\n",
      "{'jam': 'New', 'deto': 'TErenon'}\n"
     ]
    }
   ],
   "source": [
    "for name in x:\n",
    "    print(x)"
   ]
  },
  {
   "cell_type": "code",
   "execution_count": 65,
   "id": "66ff08c1-9ed8-4d0a-9722-da31d9080d4d",
   "metadata": {},
   "outputs": [
    {
     "name": "stdout",
     "output_type": "stream",
     "text": [
      "New\n",
      "TErenon\n"
     ]
    }
   ],
   "source": [
    "for name in x:\n",
    "    print(x[name])"
   ]
  },
  {
   "cell_type": "code",
   "execution_count": 66,
   "id": "83c86eae-f418-48cc-8b72-1a8ec4d3ef8c",
   "metadata": {},
   "outputs": [
    {
     "name": "stdout",
     "output_type": "stream",
     "text": [
      "jam\n",
      "deto\n"
     ]
    }
   ],
   "source": [
    "for name in x.keys():\n",
    "    print(name)"
   ]
  },
  {
   "cell_type": "code",
   "execution_count": 67,
   "id": "39ff4b1a-4761-4dcf-9e30-71f7537fa7f1",
   "metadata": {},
   "outputs": [
    {
     "name": "stdout",
     "output_type": "stream",
     "text": [
      "New\n",
      "TErenon\n"
     ]
    }
   ],
   "source": [
    "for name in x.values():\n",
    "    print(name)"
   ]
  },
  {
   "cell_type": "code",
   "execution_count": null,
   "id": "309c82af-eac9-4428-ae78-d246b56a7fab",
   "metadata": {},
   "outputs": [],
   "source": []
  },
  {
   "cell_type": "code",
   "execution_count": 68,
   "id": "2c0dce3d-3db1-41bd-a4c6-f5ff3d771f77",
   "metadata": {},
   "outputs": [
    {
     "name": "stdout",
     "output_type": "stream",
     "text": [
      "jam New\n",
      "deto TErenon\n"
     ]
    }
   ],
   "source": [
    "for name,email in x.items():\n",
    "    print(name,email)"
   ]
  },
  {
   "cell_type": "code",
   "execution_count": null,
   "id": "d6476625-41c4-4afd-9bca-55a0af8f0769",
   "metadata": {},
   "outputs": [],
   "source": []
  },
  {
   "cell_type": "code",
   "execution_count": null,
   "id": "192dd542-960b-499f-9ad6-c060b20ef548",
   "metadata": {},
   "outputs": [],
   "source": []
  },
  {
   "cell_type": "code",
   "execution_count": null,
   "id": "c40a68ba-79bc-4a25-923a-002308058d7b",
   "metadata": {},
   "outputs": [],
   "source": []
  },
  {
   "cell_type": "code",
   "execution_count": null,
   "id": "26d6aac2-1ebf-4111-8485-3ff0b0f2fcc5",
   "metadata": {},
   "outputs": [],
   "source": []
  },
  {
   "cell_type": "code",
   "execution_count": null,
   "id": "e8e0a554-eb1a-48e7-9a7d-3298ed0b8538",
   "metadata": {},
   "outputs": [],
   "source": []
  },
  {
   "cell_type": "code",
   "execution_count": null,
   "id": "9c4cd14f-7afc-4cbb-883c-12a2ddb5d23b",
   "metadata": {},
   "outputs": [],
   "source": []
  },
  {
   "cell_type": "code",
   "execution_count": null,
   "id": "52eef146-547c-4058-98de-d2ee9918a1a8",
   "metadata": {},
   "outputs": [],
   "source": []
  },
  {
   "cell_type": "code",
   "execution_count": null,
   "id": "dd0a8d7f-2083-4c47-8846-88976a905ae6",
   "metadata": {},
   "outputs": [],
   "source": []
  },
  {
   "cell_type": "code",
   "execution_count": null,
   "id": "592449af-fb26-455d-a5b3-70b641f0acec",
   "metadata": {},
   "outputs": [],
   "source": []
  },
  {
   "cell_type": "code",
   "execution_count": null,
   "id": "5248eead-385b-4a24-9f34-c2a0835c7d25",
   "metadata": {},
   "outputs": [],
   "source": []
  },
  {
   "cell_type": "code",
   "execution_count": null,
   "id": "e79e1a93-f2aa-47cc-8bd4-f1983b9b0b87",
   "metadata": {},
   "outputs": [],
   "source": []
  },
  {
   "cell_type": "code",
   "execution_count": null,
   "id": "5d56efed-264c-4c9c-ab47-31f90b07bcd8",
   "metadata": {},
   "outputs": [],
   "source": []
  }
 ],
 "metadata": {
  "kernelspec": {
   "display_name": "Python 3 (ipykernel)",
   "language": "python",
   "name": "python3"
  },
  "language_info": {
   "codemirror_mode": {
    "name": "ipython",
    "version": 3
   },
   "file_extension": ".py",
   "mimetype": "text/x-python",
   "name": "python",
   "nbconvert_exporter": "python",
   "pygments_lexer": "ipython3",
   "version": "3.10.5"
  }
 },
 "nbformat": 4,
 "nbformat_minor": 5
}
