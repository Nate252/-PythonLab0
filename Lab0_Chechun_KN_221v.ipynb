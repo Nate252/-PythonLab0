{
 "cells": [
  {
   "cell_type": "code",
   "execution_count": 1,
   "id": "0510840d-b591-417e-84eb-705e1e033f4b",
   "metadata": {},
   "outputs": [
    {
     "name": "stdin",
     "output_type": "stream",
     "text": [
      "Введіть початок відрізка (a):  1\n",
      "Введіть кінець відрізка (b):  50\n"
     ]
    },
    {
     "name": "stdout",
     "output_type": "stream",
     "text": [
      "2\n",
      "3\n",
      "5\n",
      "7\n",
      "11\n",
      "13\n",
      "17\n",
      "19\n",
      "23\n",
      "29\n",
      "31\n",
      "37\n",
      "41\n",
      "43\n",
      "47\n"
     ]
    },
    {
     "name": "stdin",
     "output_type": "stream",
     "text": [
      "Введіть початок відрізка (a):  1\n",
      "Введіть кінець відрізка (b):  р\n"
     ]
    },
    {
     "name": "stdout",
     "output_type": "stream",
     "text": [
      "Невірний ввод!\n"
     ]
    }
   ],
   "source": [
    "from math import sqrt\n",
    "\n",
    "def is_prime():\n",
    "\n",
    "    def is_prime(n: int) -> bool:\n",
    "        if n <= 3:\n",
    "            return n > 1\n",
    "        if n % 2 == 0 or n % 3 == 0:\n",
    "            return False\n",
    "        limit = int(sqrt(n)) if n >= 0 else 0\n",
    "        for i in range(5, limit + 1, 6):\n",
    "            if n % i == 0 or n % (i + 2) == 0:\n",
    "                return False\n",
    "        return True\n",
    "    try:\n",
    "        a = int(input(\"Введіть початок відрізка (a): \"))\n",
    "        b = int(input(\"Введіть кінець відрізка (b): \"))\n",
    "    except ValueError:\n",
    "        print(\"Невірний ввод!\")\n",
    "        return\n",
    "    if int(a) and int(b):\n",
    "        for n in range(a, b + 1):\n",
    "            if is_prime(n):\n",
    "                print(n)\n",
    "    else:\n",
    "        print(\"Невірний ввод!\")\n",
    "is_prime()\n",
    "is_prime()"
   ]
  },
  {
   "cell_type": "markdown",
   "id": "9946c6dc-358c-4137-aedf-c5e481e8ce76",
   "metadata": {},
   "source": [
    "<svg xmlns=\"http://www.w3.org/2000/svg\" width=\"300\" height=\"200\" viewBox=\"0 0 300 200\">\r\n",
    "  <!-- Біле полотно -->\r\n",
    "  <rect width=\"100%\" height=\"100%\" fill=\"white\" />\r\n",
    "  \r\n",
    "  <!-- Червоний трикутник -->\r\n",
    "  <polygon points=\"0,0 150,100 0,200\" fill=\"red\" />\r\n",
    "  \r\n",
    "  <!-- Чорні ромби -->\r\n",
    "  <polygon points=\"40,40 60,40 50,60\" fill=\"black\" />\r\n",
    "  <polygon points=\"70,70 90,70 80,90\" fill=\"black\" />\r\n",
    "  <polygon points=\"100,100 120,100 110,120\" fill=\"black\" />\r\n",
    "  <polygon points=\"130,130 150,130 140,150\" fill=\"black\" />\r\n",
    "  <polygon points=\"160,160 180,160 170,180\" fill=\"black\" />\r\n",
    "  <polygon points=\"190,190 210,190 200,210\" fill=\"black\" />\r\n",
    "</svg>"
   ]
  },
  {
   "cell_type": "code",
   "execution_count": 2,
   "id": "9e9b5557-0cbb-46e5-b900-3915fc610e76",
   "metadata": {},
   "outputs": [
    {
     "data": {
      "text/html": [
       "<svg width=\"600\" height=\"300\" viewBox=\"0 0 10080 5040\">\n",
       "\t<title>Flag of Jordan</title>\n",
       "\t<path fill=\"#fff\" d=\"m0 0h10080v5040H0z\"/>\n",
       "\t<path d=\"m0 0h10080v1680H0z\"/>\n",
       "\t<path fill=\"#007a3d\" d=\"m0 3360h10080v1680H0z\"/>\n",
       "\t<path fill=\"#ce1126\" d=\"m5040 2520L0 5040V0m1557 2160-78 198-203-62 106 184-176 120 211 32-16 212 156-144 157 144-16-212 210-32-175-120 106-184-203 62z\"/>\n",
       "</svg>\n"
      ],
      "text/plain": [
       "<IPython.core.display.HTML object>"
      ]
     },
     "metadata": {},
     "output_type": "display_data"
    }
   ],
   "source": [
    "%%HTML\n",
    "<svg width=\"600\" height=\"300\" viewBox=\"0 0 10080 5040\">\n",
    "\t<title>Flag of Jordan</title>\n",
    "\t<path fill=\"#fff\" d=\"m0 0h10080v5040H0z\"/>\n",
    "\t<path d=\"m0 0h10080v1680H0z\"/>\n",
    "\t<path fill=\"#007a3d\" d=\"m0 3360h10080v1680H0z\"/>\n",
    "\t<path fill=\"#ce1126\" d=\"m5040 2520L0 5040V0m1557 2160-78 198-203-62 106 184-176 120 211 32-16 212 156-144 157 144-16-212 210-32-175-120 106-184-203 62z\"/>\n",
    "</svg>\n"
   ]
  },
  {
   "cell_type": "markdown",
   "id": "74dca246-233c-485f-9995-be6d8c47efda",
   "metadata": {},
   "source": [
    "# <span style=\"color: blue;\">Країна Йорданія</span>\n",
    "\n",
    "<div style=\"border: 1px solid #ccc; padding: 10px;\">\n",
    "Столиця та найбільше місто: Амман\n",
    "</div>\n",
    "\n",
    "![онлайн-магазин](https://upload.wikimedia.org/wikipedia/commons/thumb/9/94/Amman_BW_29.JPG/486px-Amman_BW_29.JPG)\n",
    "\n",
    "## Основні факти\n",
    "- **Площа:** 89,342 км² (112-те)\n",
    "- **Населення:** 6,500,000 (оцінка на грудень 2011 року, 110-те)\n",
    "- **Офіційні мови:** Арабська\n",
    "\n",
    "## Державний устрій\n",
    "- **Форма правління:** Конституційна монархія\n",
    "  - **Король:** Абдалла II\n",
    "  - **Прем'єр-міністр:** Бішер аль-Хасауна\n",
    "\n",
    "## Незалежність\n",
    "- **Закінчення мандату Сполученого Королівства від Ліги Націй:** 25 травня 1946\n",
    "\n",
    "## Географія\n",
    "- **Площа:**\n",
    "  - Загалом: 89,342 км²\n",
    "  - Внутрішні води: незначний відсоток\n",
    "\n",
    "![Карта](250px-Jordan_governorates_named.png)\n",
    "\n",
    "## Адміністративний поділ:\n",
    "\n",
    "| Мухафаза      | Адміністративний центр | Площа, км² | Населення (2004), осіб |\n",
    "|----------------|-------------------------|------------|-------------------------|\n",
    "| Аджлун         | Аджлун                  | 412        | 118,496                 |\n",
    "| Акаба          | Акаба                   | 6,583      | 101,736                 |\n",
    "| Амман          | Амман                   | 8,231      | 1,939,405               |\n",
    "| Джераш         | Джераш                  | 402        | 153,650                 |\n",
    "| Ірбід          | Ірбід                   | 1,621      | 925,736                 |\n",
    "| Маан           | Маан                    | 33,163     | 92,672                  |\n",
    "| Мадаба         | Мадаба                  | 2,008      | 129,792                 |\n",
    "| Ез-Зарка       | Ез-Зарка                | 4,080      | 774,569                 |\n",
    "| Ель-Балка      | Ес-Салт                 | 1,076      | 344,985                 |\n",
    "| Ель-Карак      | Ель-Карак               | 3,217      | 204,135                 |\n",
    "| Ель-Мафрак     | Ель-Мафрак              | 26,435     | 240,515                 |\n",
    "| Ет-Тафіла      | Ет-Тафіла               | 2,114      | 75,290                  |\n",
    ">\n",
    "\n",
    "## Видатні персоналії\n",
    "- **Король Хусейн I** - попередній монарх, визнаний за важливого лідера на Близькому Сході.\n",
    "- **Квін Ранія Аль-Абдаллах** - королева Йорданії та активістка з питань освіти та розвитку дітей.\n",
    "\n",
    "## Пам'ятки культури та природи\n",
    "- **Древній міст Петра (Петра)**\n",
    "- **Амфітеатр Римської епохи у місті Джераш**\n",
    "\n",
    "### Гіперпосилання\n",
    "*Докладніше про* [Йорданію](https://uk.wikipedia.org/wiki/%D0%99%D0%BE%D1%80%D0%B4%D0%B0%D0%BD%D1%96%D1%8F).\n"
   ]
  }
 ],
 "metadata": {
  "kernelspec": {
   "display_name": "Python 3 (ipykernel)",
   "language": "python",
   "name": "python3"
  },
  "language_info": {
   "codemirror_mode": {
    "name": "ipython",
    "version": 3
   },
   "file_extension": ".py",
   "mimetype": "text/x-python",
   "name": "python",
   "nbconvert_exporter": "python",
   "pygments_lexer": "ipython3",
   "version": "3.10.5"
  }
 },
 "nbformat": 4,
 "nbformat_minor": 5
}
